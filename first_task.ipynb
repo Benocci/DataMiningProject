{
 "cells": [
  {
   "cell_type": "markdown",
   "metadata": {},
   "source": [
    "# First task: Data understanding\n",
    "\n",
    "We have two datasets to analyze:\n",
    "- **cyclists.csv**: contains the information about all the cyclists;\n",
    "- **races.csv**: contains the information about all the cyclism races.\n",
    "\n"
   ]
  },
  {
   "cell_type": "markdown",
   "metadata": {},
   "source": [
    "## Import of all the libraries and the dataset\n",
    "\n",
    "In the following, we import all the main libraries needed to this project and we read the .cvs files that contin the data. The data are assigned to Pandas dataframe with the name of cyclists and races."
   ]
  },
  {
   "cell_type": "code",
   "execution_count": 818,
   "metadata": {},
   "outputs": [],
   "source": [
    "import warnings\n",
    "import math\n",
    "import pandas as pd\n",
    "import numpy as np\n",
    "import matplotlib.pyplot as plt\n",
    "import scipy.stats as stats\n",
    "import seaborn as sns\n",
    "\n",
    "from collections import defaultdict\n",
    "from scipy.stats import pearsonr\n",
    "\n",
    "import os\n",
    "\n",
    "#reading the dataset\n",
    "cyclists = pd.read_csv('./dataset/cyclists.csv')\n",
    "races = pd.read_csv('./dataset/races.csv')"
   ]
  },
  {
   "cell_type": "markdown",
   "metadata": {},
   "source": [
    "## Cyclists dataset\n",
    "\n",
    "We begin the understanding of our data showing the first five rows of the cyclists dataset. It is composed by 6 attributes:\n",
    "- **_url**: identifier of the cyclist;\n",
    "- **name**: full name of the cyclist;\n",
    "- **birth_year**: year of birth of the cyclist;\n",
    "- **weight**: weigth of the cyclist;\n",
    "- **height**: height of the cyclist;\n",
    "- **nationality**: nationality of the cyclist.\n",
    "\n",
    "Then we show general information about the values of the dataset."
   ]
  },
  {
   "cell_type": "code",
   "execution_count": 819,
   "metadata": {},
   "outputs": [
    {
     "data": {
      "text/html": [
       "<div>\n",
       "<style scoped>\n",
       "    .dataframe tbody tr th:only-of-type {\n",
       "        vertical-align: middle;\n",
       "    }\n",
       "\n",
       "    .dataframe tbody tr th {\n",
       "        vertical-align: top;\n",
       "    }\n",
       "\n",
       "    .dataframe thead th {\n",
       "        text-align: right;\n",
       "    }\n",
       "</style>\n",
       "<table border=\"1\" class=\"dataframe\">\n",
       "  <thead>\n",
       "    <tr style=\"text-align: right;\">\n",
       "      <th></th>\n",
       "      <th>_url</th>\n",
       "      <th>name</th>\n",
       "      <th>birth_year</th>\n",
       "      <th>weight</th>\n",
       "      <th>height</th>\n",
       "      <th>nationality</th>\n",
       "    </tr>\n",
       "  </thead>\n",
       "  <tbody>\n",
       "    <tr>\n",
       "      <th>0</th>\n",
       "      <td>bruno-surra</td>\n",
       "      <td>Bruno  Surra</td>\n",
       "      <td>1964.0</td>\n",
       "      <td>NaN</td>\n",
       "      <td>NaN</td>\n",
       "      <td>Italy</td>\n",
       "    </tr>\n",
       "    <tr>\n",
       "      <th>1</th>\n",
       "      <td>gerard-rue</td>\n",
       "      <td>Gérard  Rué</td>\n",
       "      <td>1965.0</td>\n",
       "      <td>74.0</td>\n",
       "      <td>182.0</td>\n",
       "      <td>France</td>\n",
       "    </tr>\n",
       "    <tr>\n",
       "      <th>2</th>\n",
       "      <td>jan-maas</td>\n",
       "      <td>Jan  Maas</td>\n",
       "      <td>1996.0</td>\n",
       "      <td>69.0</td>\n",
       "      <td>189.0</td>\n",
       "      <td>Netherlands</td>\n",
       "    </tr>\n",
       "    <tr>\n",
       "      <th>3</th>\n",
       "      <td>nathan-van-hooydonck</td>\n",
       "      <td>Nathan Van Hooydonck</td>\n",
       "      <td>1995.0</td>\n",
       "      <td>78.0</td>\n",
       "      <td>192.0</td>\n",
       "      <td>Belgium</td>\n",
       "    </tr>\n",
       "    <tr>\n",
       "      <th>4</th>\n",
       "      <td>jose-felix-parra</td>\n",
       "      <td>José Félix  Parra</td>\n",
       "      <td>1997.0</td>\n",
       "      <td>55.0</td>\n",
       "      <td>171.0</td>\n",
       "      <td>Spain</td>\n",
       "    </tr>\n",
       "  </tbody>\n",
       "</table>\n",
       "</div>"
      ],
      "text/plain": [
       "                   _url                  name  birth_year  weight  height  \\\n",
       "0           bruno-surra          Bruno  Surra      1964.0     NaN     NaN   \n",
       "1            gerard-rue           Gérard  Rué      1965.0    74.0   182.0   \n",
       "2              jan-maas             Jan  Maas      1996.0    69.0   189.0   \n",
       "3  nathan-van-hooydonck  Nathan Van Hooydonck      1995.0    78.0   192.0   \n",
       "4      jose-felix-parra     José Félix  Parra      1997.0    55.0   171.0   \n",
       "\n",
       "   nationality  \n",
       "0        Italy  \n",
       "1       France  \n",
       "2  Netherlands  \n",
       "3      Belgium  \n",
       "4        Spain  "
      ]
     },
     "execution_count": 819,
     "metadata": {},
     "output_type": "execute_result"
    }
   ],
   "source": [
    "cyclists.head()"
   ]
  },
  {
   "cell_type": "code",
   "execution_count": 820,
   "metadata": {},
   "outputs": [
    {
     "name": "stdout",
     "output_type": "stream",
     "text": [
      "<class 'pandas.core.frame.DataFrame'>\n",
      "RangeIndex: 6134 entries, 0 to 6133\n",
      "Data columns (total 6 columns):\n",
      " #   Column       Non-Null Count  Dtype  \n",
      "---  ------       --------------  -----  \n",
      " 0   _url         6134 non-null   object \n",
      " 1   name         6134 non-null   object \n",
      " 2   birth_year   6121 non-null   float64\n",
      " 3   weight       3078 non-null   float64\n",
      " 4   height       3143 non-null   float64\n",
      " 5   nationality  6133 non-null   object \n",
      "dtypes: float64(3), object(3)\n",
      "memory usage: 287.7+ KB\n"
     ]
    }
   ],
   "source": [
    "cyclists.info()"
   ]
  },
  {
   "cell_type": "markdown",
   "metadata": {},
   "source": [
    "Before analyzing the values we show that there aren't duplicated rows in the dataset that could influence further studies."
   ]
  },
  {
   "cell_type": "code",
   "execution_count": 821,
   "metadata": {},
   "outputs": [
    {
     "name": "stdout",
     "output_type": "stream",
     "text": [
      "Number of duplicated rows in cyclists dataset: 0\n"
     ]
    }
   ],
   "source": [
    "print(f\"Number of duplicated rows in cyclists dataset: {cyclists.duplicated().sum()}\")"
   ]
  },
  {
   "cell_type": "markdown",
   "metadata": {},
   "source": [
    "We can see that _url and name entry have no null value, birth_year and nationality have few null entry while weight and height have half of value null. More precisely:"
   ]
  },
  {
   "cell_type": "code",
   "execution_count": 822,
   "metadata": {},
   "outputs": [
    {
     "name": "stdout",
     "output_type": "stream",
     "text": [
      "Number of null values in each column:\n",
      "\n",
      "_url              0\n",
      "name              0\n",
      "birth_year       13\n",
      "weight         3056\n",
      "height         2991\n",
      "nationality       1\n",
      "dtype: int64\n"
     ]
    }
   ],
   "source": [
    "cyclists_null = cyclists.isnull().sum()\n",
    "print(\"Number of null values in each column:\\n\")\n",
    "print(cyclists_null)"
   ]
  },
  {
   "cell_type": "markdown",
   "metadata": {},
   "source": [
    "To conclude a general view about the cyclist dataset values, we use the *.describe()* method to get some hight level statistics of the numerical entries."
   ]
  },
  {
   "cell_type": "code",
   "execution_count": 823,
   "metadata": {},
   "outputs": [
    {
     "data": {
      "text/html": [
       "<div>\n",
       "<style scoped>\n",
       "    .dataframe tbody tr th:only-of-type {\n",
       "        vertical-align: middle;\n",
       "    }\n",
       "\n",
       "    .dataframe tbody tr th {\n",
       "        vertical-align: top;\n",
       "    }\n",
       "\n",
       "    .dataframe thead th {\n",
       "        text-align: right;\n",
       "    }\n",
       "</style>\n",
       "<table border=\"1\" class=\"dataframe\">\n",
       "  <thead>\n",
       "    <tr style=\"text-align: right;\">\n",
       "      <th></th>\n",
       "      <th>birth_year</th>\n",
       "      <th>weight</th>\n",
       "      <th>height</th>\n",
       "    </tr>\n",
       "  </thead>\n",
       "  <tbody>\n",
       "    <tr>\n",
       "      <th>count</th>\n",
       "      <td>6121.000000</td>\n",
       "      <td>3078.000000</td>\n",
       "      <td>3143.000000</td>\n",
       "    </tr>\n",
       "    <tr>\n",
       "      <th>mean</th>\n",
       "      <td>1974.071884</td>\n",
       "      <td>68.658739</td>\n",
       "      <td>179.815145</td>\n",
       "    </tr>\n",
       "    <tr>\n",
       "      <th>std</th>\n",
       "      <td>15.535834</td>\n",
       "      <td>6.348183</td>\n",
       "      <td>6.443447</td>\n",
       "    </tr>\n",
       "    <tr>\n",
       "      <th>min</th>\n",
       "      <td>1933.000000</td>\n",
       "      <td>48.000000</td>\n",
       "      <td>154.000000</td>\n",
       "    </tr>\n",
       "    <tr>\n",
       "      <th>25%</th>\n",
       "      <td>1962.000000</td>\n",
       "      <td>64.000000</td>\n",
       "      <td>175.000000</td>\n",
       "    </tr>\n",
       "    <tr>\n",
       "      <th>50%</th>\n",
       "      <td>1974.000000</td>\n",
       "      <td>69.000000</td>\n",
       "      <td>180.000000</td>\n",
       "    </tr>\n",
       "    <tr>\n",
       "      <th>75%</th>\n",
       "      <td>1987.000000</td>\n",
       "      <td>73.000000</td>\n",
       "      <td>184.000000</td>\n",
       "    </tr>\n",
       "    <tr>\n",
       "      <th>max</th>\n",
       "      <td>2004.000000</td>\n",
       "      <td>94.000000</td>\n",
       "      <td>204.000000</td>\n",
       "    </tr>\n",
       "  </tbody>\n",
       "</table>\n",
       "</div>"
      ],
      "text/plain": [
       "        birth_year       weight       height\n",
       "count  6121.000000  3078.000000  3143.000000\n",
       "mean   1974.071884    68.658739   179.815145\n",
       "std      15.535834     6.348183     6.443447\n",
       "min    1933.000000    48.000000   154.000000\n",
       "25%    1962.000000    64.000000   175.000000\n",
       "50%    1974.000000    69.000000   180.000000\n",
       "75%    1987.000000    73.000000   184.000000\n",
       "max    2004.000000    94.000000   204.000000"
      ]
     },
     "execution_count": 823,
     "metadata": {},
     "output_type": "execute_result"
    }
   ],
   "source": [
    "cyclists.describe()"
   ]
  },
  {
   "cell_type": "markdown",
   "metadata": {},
   "source": [
    "### Data cleaning\n",
    "\n",
    "After the previous analysis we decide to cleaning the data with the aim of handling missing values, correcting inconsistencies and ensuring data integrity.\n",
    "\n",
    "First of all we decide to remove the multiple spaces inside the *name* attribute in this way"
   ]
  },
  {
   "cell_type": "code",
   "execution_count": 824,
   "metadata": {},
   "outputs": [],
   "source": [
    "cyclists['name'] = cyclists['name'].str.replace(r'\\s+', ' ', regex=True).str.strip()\n",
    "cyclists['name'] = cyclists['name'].str.normalize('NFKD').str.encode('ascii', errors='ignore').str.decode('utf-8')"
   ]
  },
  {
   "cell_type": "markdown",
   "metadata": {},
   "source": [
    "Then we decide to rewrite the missing values of *weight* and *height* with -1 standard value. We also cast all the values to float."
   ]
  },
  {
   "cell_type": "code",
   "execution_count": 825,
   "metadata": {},
   "outputs": [],
   "source": [
    "cyclists['weight'] = cyclists['weight'].fillna(-1)\n",
    "cyclists['height'] = cyclists['height'].fillna(-1)\n",
    "\n",
    "cyclists['weight'] = cyclists['weight'].astype(float)\n",
    "cyclists['height'] = cyclists['height'].astype(float)"
   ]
  },
  {
   "cell_type": "markdown",
   "metadata": {},
   "source": [
    "Also the missing values of *birth_year* are replaced with NaN and all the value are casted to int without loss of information"
   ]
  },
  {
   "cell_type": "code",
   "execution_count": 826,
   "metadata": {},
   "outputs": [],
   "source": [
    "cyclists['birth_year'] = cyclists['birth_year'].fillna(0)\n",
    "cyclists['birth_year'] = cyclists['birth_year'].astype(int)"
   ]
  },
  {
   "cell_type": "markdown",
   "metadata": {},
   "source": [
    "We decide to drop the entry with *name* or *nationality* as missing value."
   ]
  },
  {
   "cell_type": "code",
   "execution_count": 827,
   "metadata": {},
   "outputs": [
    {
     "name": "stdout",
     "output_type": "stream",
     "text": [
      "<class 'pandas.core.frame.DataFrame'>\n",
      "Index: 6133 entries, 0 to 6133\n",
      "Data columns (total 6 columns):\n",
      " #   Column       Non-Null Count  Dtype  \n",
      "---  ------       --------------  -----  \n",
      " 0   _url         6133 non-null   object \n",
      " 1   name         6133 non-null   object \n",
      " 2   birth_year   6133 non-null   int64  \n",
      " 3   weight       6133 non-null   float64\n",
      " 4   height       6133 non-null   float64\n",
      " 5   nationality  6133 non-null   object \n",
      "dtypes: float64(2), int64(1), object(3)\n",
      "memory usage: 335.4+ KB\n"
     ]
    }
   ],
   "source": [
    "cyclists = cyclists.dropna(subset=['name', 'nationality'])\n",
    "\n",
    "cyclists.info()"
   ]
  },
  {
   "cell_type": "markdown",
   "metadata": {},
   "source": [
    "Now we check if we have values that are not plausible."
   ]
  },
  {
   "cell_type": "code",
   "execution_count": 828,
   "metadata": {},
   "outputs": [
    {
     "name": "stdout",
     "output_type": "stream",
     "text": [
      "Number of invalid birth_year: 12\n",
      "                    _url                name  birth_year  weight  height  \\\n",
      "601     vladimir-malakov    Vladimir Malakov           0    -1.0    -1.0   \n",
      "894       antonio-zanini      Antonio Zanini           0    -1.0    -1.0   \n",
      "2408   filippo-simonetti   Filippo Simonetti           0    -1.0    -1.0   \n",
      "2515       carlos-garcia       Carlos Garcia           0    -1.0    -1.0   \n",
      "2536     alexandr-osipov     Alexandr Osipov           0    -1.0    -1.0   \n",
      "3046    nicolai-kosyakov    Nicolai Kosyakov           0    -1.0    -1.0   \n",
      "3551          nevens-guy          Guy Nevens           0    -1.0    -1.0   \n",
      "4142         oscar-pumar         Oscar Pumar           0    -1.0    -1.0   \n",
      "4384       javier-luquin       Javier Luquin           0    -1.0    -1.0   \n",
      "4756      thierry-lauder      Thierry Lauder           0    -1.0    -1.0   \n",
      "6072  sergei-jermachenko  Sergei Jermachenko           0    -1.0    -1.0   \n",
      "6080     batik-odriozola     Batik Odriozola           0    -1.0    -1.0   \n",
      "\n",
      "     nationality  \n",
      "601       Russia  \n",
      "894        Italy  \n",
      "2408       Italy  \n",
      "2515       Spain  \n",
      "2536      Russia  \n",
      "3046      Russia  \n",
      "3551     Belgium  \n",
      "4142   Venezuela  \n",
      "4384       Spain  \n",
      "4756      France  \n",
      "6072      Russia  \n",
      "6080       Spain  \n",
      "Number of invalid height: 0\n",
      "Number of invalid weight: 0\n"
     ]
    }
   ],
   "source": [
    "invalid_birth_year = cyclists[cyclists['birth_year'] < 1900 | (cyclists['birth_year'] > 2024)]\n",
    "print(f\"Number of invalid birth_year: {len(invalid_birth_year)}\")\n",
    "print(invalid_birth_year)\n",
    "\n",
    "## TODO: Fix the invalid birth year\n",
    "\n",
    "invalid_height = cyclists[((cyclists['height'] < 100) | (cyclists['height'] > 220)) & (cyclists['height'] != -1)]\n",
    "print(f\"Number of invalid height: {len(invalid_height)}\")\n",
    "\n",
    "invalid_weight = cyclists[((cyclists['weight'] < 30) | (cyclists['weight'] > 150)) & (cyclists['weight'] != -1)]\n",
    "print(f\"Number of invalid weight: {len(invalid_weight)}\")\n"
   ]
  },
  {
   "cell_type": "markdown",
   "metadata": {},
   "source": [
    "## Races dataset\n",
    "\n",
    "The races dataset is composed by the following attributes:\n",
    "- **_url**: identifier for the race, typically includes the race name, year, and stage.\n",
    "- **name**: the official name of the race (e.g., \"Tour de France\").\n",
    "- **points**: points assigned to the race, indicating its prestige or importance.\n",
    "- **uci_points**: alternative points assigned based on UCI rankings.\n",
    "- **length**: the total distance of the race, usually in meters.\n",
    "- **climb_total**: the total meters climbed during the race, indicating elevation difficulty.\n",
    "- **profile**: the race's terrain profile, such as flat, hilly, mountainous, or mixed.\n",
    "- **startlist_quality**: the quality or strength of the participants in the race.\n",
    "- **average_temperature**: the average temperature during the race, typically in degrees Celsius.\n",
    "- **date**: the date on which the race took place.\n",
    "- **position**: the final position or ranking of a specific cyclist in the race.\n",
    "- **cyclist**: the unique identifier for the cyclist (_url attribute in the cyclists table).\n",
    "- **cyclist_age**: the age of the cyclist during the race.\n",
    "- **is_tarmac**: indicates if the race was held on tarmac surfaces.\n",
    "- **is_cobbled**: indicates if the race featured cobbled sections.\n",
    "- **is_gravel**: indicates if the race included gravel sections.\n",
    "- **cyclist_team**: the team the cyclist was part of during the race.\n",
    "- **delta**: the time difference in seconds between the cyclist and the race winner."
   ]
  },
  {
   "cell_type": "code",
   "execution_count": 829,
   "metadata": {},
   "outputs": [
    {
     "data": {
      "text/html": [
       "<div>\n",
       "<style scoped>\n",
       "    .dataframe tbody tr th:only-of-type {\n",
       "        vertical-align: middle;\n",
       "    }\n",
       "\n",
       "    .dataframe tbody tr th {\n",
       "        vertical-align: top;\n",
       "    }\n",
       "\n",
       "    .dataframe thead th {\n",
       "        text-align: right;\n",
       "    }\n",
       "</style>\n",
       "<table border=\"1\" class=\"dataframe\">\n",
       "  <thead>\n",
       "    <tr style=\"text-align: right;\">\n",
       "      <th></th>\n",
       "      <th>_url</th>\n",
       "      <th>name</th>\n",
       "      <th>points</th>\n",
       "      <th>uci_points</th>\n",
       "      <th>length</th>\n",
       "      <th>climb_total</th>\n",
       "      <th>profile</th>\n",
       "      <th>startlist_quality</th>\n",
       "      <th>average_temperature</th>\n",
       "      <th>date</th>\n",
       "      <th>position</th>\n",
       "      <th>cyclist</th>\n",
       "      <th>cyclist_age</th>\n",
       "      <th>is_tarmac</th>\n",
       "      <th>is_cobbled</th>\n",
       "      <th>is_gravel</th>\n",
       "      <th>cyclist_team</th>\n",
       "      <th>delta</th>\n",
       "    </tr>\n",
       "  </thead>\n",
       "  <tbody>\n",
       "    <tr>\n",
       "      <th>0</th>\n",
       "      <td>tour-de-france/1978/stage-6</td>\n",
       "      <td>Tour de France</td>\n",
       "      <td>100.0</td>\n",
       "      <td>NaN</td>\n",
       "      <td>162000.0</td>\n",
       "      <td>1101.0</td>\n",
       "      <td>1.0</td>\n",
       "      <td>1241</td>\n",
       "      <td>NaN</td>\n",
       "      <td>1978-07-05 04:02:24</td>\n",
       "      <td>0</td>\n",
       "      <td>sean-kelly</td>\n",
       "      <td>22.0</td>\n",
       "      <td>True</td>\n",
       "      <td>False</td>\n",
       "      <td>False</td>\n",
       "      <td>vini-ricordi-pinarello-sidermec-1986</td>\n",
       "      <td>0.0</td>\n",
       "    </tr>\n",
       "    <tr>\n",
       "      <th>1</th>\n",
       "      <td>tour-de-france/1978/stage-6</td>\n",
       "      <td>Tour de France</td>\n",
       "      <td>100.0</td>\n",
       "      <td>NaN</td>\n",
       "      <td>162000.0</td>\n",
       "      <td>1101.0</td>\n",
       "      <td>1.0</td>\n",
       "      <td>1241</td>\n",
       "      <td>NaN</td>\n",
       "      <td>1978-07-05 04:02:24</td>\n",
       "      <td>1</td>\n",
       "      <td>gerrie-knetemann</td>\n",
       "      <td>27.0</td>\n",
       "      <td>True</td>\n",
       "      <td>False</td>\n",
       "      <td>False</td>\n",
       "      <td>norway-1987</td>\n",
       "      <td>0.0</td>\n",
       "    </tr>\n",
       "    <tr>\n",
       "      <th>2</th>\n",
       "      <td>tour-de-france/1978/stage-6</td>\n",
       "      <td>Tour de France</td>\n",
       "      <td>100.0</td>\n",
       "      <td>NaN</td>\n",
       "      <td>162000.0</td>\n",
       "      <td>1101.0</td>\n",
       "      <td>1.0</td>\n",
       "      <td>1241</td>\n",
       "      <td>NaN</td>\n",
       "      <td>1978-07-05 04:02:24</td>\n",
       "      <td>2</td>\n",
       "      <td>rene-bittinger</td>\n",
       "      <td>24.0</td>\n",
       "      <td>True</td>\n",
       "      <td>False</td>\n",
       "      <td>False</td>\n",
       "      <td>NaN</td>\n",
       "      <td>0.0</td>\n",
       "    </tr>\n",
       "    <tr>\n",
       "      <th>3</th>\n",
       "      <td>tour-de-france/1978/stage-6</td>\n",
       "      <td>Tour de France</td>\n",
       "      <td>100.0</td>\n",
       "      <td>NaN</td>\n",
       "      <td>162000.0</td>\n",
       "      <td>1101.0</td>\n",
       "      <td>1.0</td>\n",
       "      <td>1241</td>\n",
       "      <td>NaN</td>\n",
       "      <td>1978-07-05 04:02:24</td>\n",
       "      <td>3</td>\n",
       "      <td>joseph-bruyere</td>\n",
       "      <td>30.0</td>\n",
       "      <td>True</td>\n",
       "      <td>False</td>\n",
       "      <td>False</td>\n",
       "      <td>navigare-blue-storm-1993</td>\n",
       "      <td>0.0</td>\n",
       "    </tr>\n",
       "    <tr>\n",
       "      <th>4</th>\n",
       "      <td>tour-de-france/1978/stage-6</td>\n",
       "      <td>Tour de France</td>\n",
       "      <td>100.0</td>\n",
       "      <td>NaN</td>\n",
       "      <td>162000.0</td>\n",
       "      <td>1101.0</td>\n",
       "      <td>1.0</td>\n",
       "      <td>1241</td>\n",
       "      <td>NaN</td>\n",
       "      <td>1978-07-05 04:02:24</td>\n",
       "      <td>4</td>\n",
       "      <td>sven-ake-nilsson</td>\n",
       "      <td>27.0</td>\n",
       "      <td>True</td>\n",
       "      <td>False</td>\n",
       "      <td>False</td>\n",
       "      <td>spain-1991</td>\n",
       "      <td>0.0</td>\n",
       "    </tr>\n",
       "  </tbody>\n",
       "</table>\n",
       "</div>"
      ],
      "text/plain": [
       "                          _url            name  points  uci_points    length  \\\n",
       "0  tour-de-france/1978/stage-6  Tour de France   100.0         NaN  162000.0   \n",
       "1  tour-de-france/1978/stage-6  Tour de France   100.0         NaN  162000.0   \n",
       "2  tour-de-france/1978/stage-6  Tour de France   100.0         NaN  162000.0   \n",
       "3  tour-de-france/1978/stage-6  Tour de France   100.0         NaN  162000.0   \n",
       "4  tour-de-france/1978/stage-6  Tour de France   100.0         NaN  162000.0   \n",
       "\n",
       "   climb_total  profile  startlist_quality  average_temperature  \\\n",
       "0       1101.0      1.0               1241                  NaN   \n",
       "1       1101.0      1.0               1241                  NaN   \n",
       "2       1101.0      1.0               1241                  NaN   \n",
       "3       1101.0      1.0               1241                  NaN   \n",
       "4       1101.0      1.0               1241                  NaN   \n",
       "\n",
       "                  date  position           cyclist  cyclist_age  is_tarmac  \\\n",
       "0  1978-07-05 04:02:24         0        sean-kelly         22.0       True   \n",
       "1  1978-07-05 04:02:24         1  gerrie-knetemann         27.0       True   \n",
       "2  1978-07-05 04:02:24         2    rene-bittinger         24.0       True   \n",
       "3  1978-07-05 04:02:24         3    joseph-bruyere         30.0       True   \n",
       "4  1978-07-05 04:02:24         4  sven-ake-nilsson         27.0       True   \n",
       "\n",
       "   is_cobbled  is_gravel                          cyclist_team  delta  \n",
       "0       False      False  vini-ricordi-pinarello-sidermec-1986    0.0  \n",
       "1       False      False                           norway-1987    0.0  \n",
       "2       False      False                                   NaN    0.0  \n",
       "3       False      False              navigare-blue-storm-1993    0.0  \n",
       "4       False      False                            spain-1991    0.0  "
      ]
     },
     "execution_count": 829,
     "metadata": {},
     "output_type": "execute_result"
    }
   ],
   "source": [
    "races.head()"
   ]
  },
  {
   "cell_type": "code",
   "execution_count": 830,
   "metadata": {},
   "outputs": [
    {
     "name": "stdout",
     "output_type": "stream",
     "text": [
      "<class 'pandas.core.frame.DataFrame'>\n",
      "RangeIndex: 589865 entries, 0 to 589864\n",
      "Data columns (total 18 columns):\n",
      " #   Column               Non-Null Count   Dtype  \n",
      "---  ------               --------------   -----  \n",
      " 0   _url                 589865 non-null  object \n",
      " 1   name                 589865 non-null  object \n",
      " 2   points               589388 non-null  float64\n",
      " 3   uci_points           251086 non-null  float64\n",
      " 4   length               589865 non-null  float64\n",
      " 5   climb_total          442820 non-null  float64\n",
      " 6   profile              441671 non-null  float64\n",
      " 7   startlist_quality    589865 non-null  int64  \n",
      " 8   average_temperature  29933 non-null   float64\n",
      " 9   date                 589865 non-null  object \n",
      " 10  position             589865 non-null  int64  \n",
      " 11  cyclist              589865 non-null  object \n",
      " 12  cyclist_age          589752 non-null  float64\n",
      " 13  is_tarmac            589865 non-null  bool   \n",
      " 14  is_cobbled           589865 non-null  bool   \n",
      " 15  is_gravel            589865 non-null  bool   \n",
      " 16  cyclist_team         430704 non-null  object \n",
      " 17  delta                589865 non-null  float64\n",
      "dtypes: bool(3), float64(8), int64(2), object(5)\n",
      "memory usage: 69.2+ MB\n"
     ]
    }
   ],
   "source": [
    "races.info()"
   ]
  },
  {
   "cell_type": "markdown",
   "metadata": {},
   "source": [
    "Also in this dataset we show that there aren't duplicated rows."
   ]
  },
  {
   "cell_type": "code",
   "execution_count": 831,
   "metadata": {},
   "outputs": [
    {
     "name": "stdout",
     "output_type": "stream",
     "text": [
      "Number of duplicated rows in races dataset: 0\n"
     ]
    }
   ],
   "source": [
    "print(f\"Number of duplicated rows in races dataset: {races.duplicated().sum()}\")"
   ]
  },
  {
   "cell_type": "markdown",
   "metadata": {},
   "source": [
    "We can see that more than half of uci_points and average_temperature values are null, also climb_total, profile and cyclist_team have concerning number of null values. All the other entry have almost all non-null values. More precisely: "
   ]
  },
  {
   "cell_type": "code",
   "execution_count": 832,
   "metadata": {},
   "outputs": [
    {
     "name": "stdout",
     "output_type": "stream",
     "text": [
      "Number of null values in each column:\n",
      "\n",
      "_url                        0\n",
      "name                        0\n",
      "points                    477\n",
      "uci_points             338779\n",
      "length                      0\n",
      "climb_total            147045\n",
      "profile                148194\n",
      "startlist_quality           0\n",
      "average_temperature    559932\n",
      "date                        0\n",
      "position                    0\n",
      "cyclist                     0\n",
      "cyclist_age               113\n",
      "is_tarmac                   0\n",
      "is_cobbled                  0\n",
      "is_gravel                   0\n",
      "cyclist_team           159161\n",
      "delta                       0\n",
      "dtype: int64\n"
     ]
    }
   ],
   "source": [
    "races_null = races.isnull().sum()\n",
    "print(\"Number of null values in each column:\\n\")\n",
    "print(races_null)"
   ]
  },
  {
   "cell_type": "markdown",
   "metadata": {},
   "source": [
    "To end this preliminary analysis, we use the *.describe()* method to get some hight level statistics of the numerical entries of the races dataset."
   ]
  },
  {
   "cell_type": "code",
   "execution_count": 833,
   "metadata": {},
   "outputs": [
    {
     "data": {
      "text/html": [
       "<div>\n",
       "<style scoped>\n",
       "    .dataframe tbody tr th:only-of-type {\n",
       "        vertical-align: middle;\n",
       "    }\n",
       "\n",
       "    .dataframe tbody tr th {\n",
       "        vertical-align: top;\n",
       "    }\n",
       "\n",
       "    .dataframe thead th {\n",
       "        text-align: right;\n",
       "    }\n",
       "</style>\n",
       "<table border=\"1\" class=\"dataframe\">\n",
       "  <thead>\n",
       "    <tr style=\"text-align: right;\">\n",
       "      <th></th>\n",
       "      <th>points</th>\n",
       "      <th>uci_points</th>\n",
       "      <th>length</th>\n",
       "      <th>climb_total</th>\n",
       "      <th>profile</th>\n",
       "      <th>startlist_quality</th>\n",
       "      <th>average_temperature</th>\n",
       "      <th>position</th>\n",
       "      <th>cyclist_age</th>\n",
       "      <th>delta</th>\n",
       "    </tr>\n",
       "  </thead>\n",
       "  <tbody>\n",
       "    <tr>\n",
       "      <th>count</th>\n",
       "      <td>589388.000000</td>\n",
       "      <td>251086.000000</td>\n",
       "      <td>589865.000000</td>\n",
       "      <td>442820.000000</td>\n",
       "      <td>441671.000000</td>\n",
       "      <td>589865.000000</td>\n",
       "      <td>29933.000000</td>\n",
       "      <td>589865.000000</td>\n",
       "      <td>589752.000000</td>\n",
       "      <td>589865.000000</td>\n",
       "    </tr>\n",
       "    <tr>\n",
       "      <th>mean</th>\n",
       "      <td>89.221635</td>\n",
       "      <td>74.601547</td>\n",
       "      <td>166776.180584</td>\n",
       "      <td>2330.469215</td>\n",
       "      <td>2.611611</td>\n",
       "      <td>1101.161178</td>\n",
       "      <td>21.731768</td>\n",
       "      <td>74.219491</td>\n",
       "      <td>28.486208</td>\n",
       "      <td>418.292794</td>\n",
       "    </tr>\n",
       "    <tr>\n",
       "      <th>std</th>\n",
       "      <td>54.435330</td>\n",
       "      <td>100.947962</td>\n",
       "      <td>64545.605664</td>\n",
       "      <td>1375.710722</td>\n",
       "      <td>1.491741</td>\n",
       "      <td>380.586928</td>\n",
       "      <td>5.884761</td>\n",
       "      <td>48.404023</td>\n",
       "      <td>3.855631</td>\n",
       "      <td>842.961596</td>\n",
       "    </tr>\n",
       "    <tr>\n",
       "      <th>min</th>\n",
       "      <td>18.000000</td>\n",
       "      <td>6.000000</td>\n",
       "      <td>1000.000000</td>\n",
       "      <td>2.000000</td>\n",
       "      <td>1.000000</td>\n",
       "      <td>115.000000</td>\n",
       "      <td>10.000000</td>\n",
       "      <td>0.000000</td>\n",
       "      <td>13.000000</td>\n",
       "      <td>-6906.000000</td>\n",
       "    </tr>\n",
       "    <tr>\n",
       "      <th>25%</th>\n",
       "      <td>50.000000</td>\n",
       "      <td>16.000000</td>\n",
       "      <td>152500.000000</td>\n",
       "      <td>1309.000000</td>\n",
       "      <td>1.000000</td>\n",
       "      <td>844.000000</td>\n",
       "      <td>17.000000</td>\n",
       "      <td>32.000000</td>\n",
       "      <td>26.000000</td>\n",
       "      <td>10.000000</td>\n",
       "    </tr>\n",
       "    <tr>\n",
       "      <th>50%</th>\n",
       "      <td>80.000000</td>\n",
       "      <td>60.000000</td>\n",
       "      <td>178200.000000</td>\n",
       "      <td>2255.000000</td>\n",
       "      <td>2.000000</td>\n",
       "      <td>988.000000</td>\n",
       "      <td>22.000000</td>\n",
       "      <td>70.000000</td>\n",
       "      <td>28.000000</td>\n",
       "      <td>156.000000</td>\n",
       "    </tr>\n",
       "    <tr>\n",
       "      <th>75%</th>\n",
       "      <td>100.000000</td>\n",
       "      <td>100.000000</td>\n",
       "      <td>203500.000000</td>\n",
       "      <td>3273.000000</td>\n",
       "      <td>4.000000</td>\n",
       "      <td>1309.000000</td>\n",
       "      <td>26.000000</td>\n",
       "      <td>112.000000</td>\n",
       "      <td>31.000000</td>\n",
       "      <td>624.000000</td>\n",
       "    </tr>\n",
       "    <tr>\n",
       "      <th>max</th>\n",
       "      <td>350.000000</td>\n",
       "      <td>800.000000</td>\n",
       "      <td>338000.000000</td>\n",
       "      <td>6974.000000</td>\n",
       "      <td>5.000000</td>\n",
       "      <td>2047.000000</td>\n",
       "      <td>36.000000</td>\n",
       "      <td>209.000000</td>\n",
       "      <td>56.000000</td>\n",
       "      <td>61547.000000</td>\n",
       "    </tr>\n",
       "  </tbody>\n",
       "</table>\n",
       "</div>"
      ],
      "text/plain": [
       "              points     uci_points         length    climb_total  \\\n",
       "count  589388.000000  251086.000000  589865.000000  442820.000000   \n",
       "mean       89.221635      74.601547  166776.180584    2330.469215   \n",
       "std        54.435330     100.947962   64545.605664    1375.710722   \n",
       "min        18.000000       6.000000    1000.000000       2.000000   \n",
       "25%        50.000000      16.000000  152500.000000    1309.000000   \n",
       "50%        80.000000      60.000000  178200.000000    2255.000000   \n",
       "75%       100.000000     100.000000  203500.000000    3273.000000   \n",
       "max       350.000000     800.000000  338000.000000    6974.000000   \n",
       "\n",
       "             profile  startlist_quality  average_temperature       position  \\\n",
       "count  441671.000000      589865.000000         29933.000000  589865.000000   \n",
       "mean        2.611611        1101.161178            21.731768      74.219491   \n",
       "std         1.491741         380.586928             5.884761      48.404023   \n",
       "min         1.000000         115.000000            10.000000       0.000000   \n",
       "25%         1.000000         844.000000            17.000000      32.000000   \n",
       "50%         2.000000         988.000000            22.000000      70.000000   \n",
       "75%         4.000000        1309.000000            26.000000     112.000000   \n",
       "max         5.000000        2047.000000            36.000000     209.000000   \n",
       "\n",
       "         cyclist_age          delta  \n",
       "count  589752.000000  589865.000000  \n",
       "mean       28.486208     418.292794  \n",
       "std         3.855631     842.961596  \n",
       "min        13.000000   -6906.000000  \n",
       "25%        26.000000      10.000000  \n",
       "50%        28.000000     156.000000  \n",
       "75%        31.000000     624.000000  \n",
       "max        56.000000   61547.000000  "
      ]
     },
     "execution_count": 833,
     "metadata": {},
     "output_type": "execute_result"
    }
   ],
   "source": [
    "races.describe()"
   ]
  },
  {
   "cell_type": "markdown",
   "metadata": {},
   "source": [
    "### Data cleaning\n",
    "\n",
    "As done for the cyclists dataset, we make the cleaning of the races dataset. To start we convert the data types."
   ]
  },
  {
   "cell_type": "code",
   "execution_count": 834,
   "metadata": {},
   "outputs": [],
   "source": [
    "# converting data types in numeric: \n",
    "races['points'] = pd.to_numeric(races['points'], errors='coerce')\n",
    "races['uci_points'] = pd.to_numeric(races['uci_points'], errors='coerce')\n",
    "races['length'] = pd.to_numeric(races['length'], errors='coerce')\n",
    "races['climb_total'] = pd.to_numeric(races['climb_total'], errors='coerce')\n",
    "races['cyclist_age'] = pd.to_numeric(races['cyclist_age'], errors='coerce')\n",
    "\n"
   ]
  },
  {
   "cell_type": "markdown",
   "metadata": {},
   "source": [
    "Now we can check and handle the invalid and missing values."
   ]
  },
  {
   "cell_type": "code",
   "execution_count": 835,
   "metadata": {},
   "outputs": [
    {
     "name": "stdout",
     "output_type": "stream",
     "text": [
      "Number of invalid points: 0\n",
      "Number of invalid uci_points: 0\n",
      "Number of invalid length: 0\n",
      "Number of invalid climb_total: 0\n",
      "Number of invalid cyclist_age: 1\n",
      "Number of missing teams: 159161\n"
     ]
    }
   ],
   "source": [
    "invalid_points = races[races['points'] < 0]\n",
    "print(f\"Number of invalid points: {len(invalid_points)}\")\n",
    "\n",
    "invalid_uci_points = races[races['uci_points'] < 0]\n",
    "print(f\"Number of invalid uci_points: {len(invalid_uci_points)}\")\n",
    "\n",
    "invalid_length = races[(races['length'] < 0) | (races['length'] > 400000)]\n",
    "print(f\"Number of invalid length: {len(invalid_length)}\")\n",
    "\n",
    "invalid_climb_total = races[(races['climb_total'] < 0) | (races['climb_total'] > 10000)]\n",
    "print(f\"Number of invalid climb_total: {len(invalid_climb_total)}\")\n",
    "\n",
    "races['cyclist_age'] = races['cyclist_age'].fillna(-1)\n",
    "races['cyclist_age'] = races['cyclist_age'].astype(int)\n",
    "invalid_ages = races[((races['cyclist_age'] < 13) | (races['cyclist_age'] > 50))]\n",
    "invalid_ages = invalid_ages[invalid_ages['cyclist_age'] != -1]\n",
    "print(f\"Number of invalid cyclist_age: {len(invalid_ages)}\")\n",
    "#print(invalid_ages) # TODO: fix age (non è la sua vera età)\n",
    "\n",
    "missing_teams = races[races['cyclist_team'].isnull()]\n",
    "print(f\"Number of missing teams: {len(missing_teams)}\")\n",
    "# races['cyclist_team'].fillna('Unknown', inplace=True)\n",
    "# TODO: fix missing teams"
   ]
  },
  {
   "cell_type": "code",
   "execution_count": 836,
   "metadata": {},
   "outputs": [
    {
     "name": "stdout",
     "output_type": "stream",
     "text": [
      "<class 'pandas.core.frame.DataFrame'>\n",
      "RangeIndex: 589865 entries, 0 to 589864\n",
      "Data columns (total 18 columns):\n",
      " #   Column               Non-Null Count   Dtype  \n",
      "---  ------               --------------   -----  \n",
      " 0   _url                 589865 non-null  object \n",
      " 1   name                 589865 non-null  object \n",
      " 2   points               589388 non-null  float64\n",
      " 3   uci_points           251086 non-null  float64\n",
      " 4   length               589865 non-null  float64\n",
      " 5   climb_total          442820 non-null  float64\n",
      " 6   profile              441671 non-null  float64\n",
      " 7   startlist_quality    589865 non-null  int64  \n",
      " 8   average_temperature  29933 non-null   float64\n",
      " 9   date                 589865 non-null  object \n",
      " 10  position             589865 non-null  int64  \n",
      " 11  cyclist              589865 non-null  object \n",
      " 12  cyclist_age          589865 non-null  int64  \n",
      " 13  is_tarmac            589865 non-null  bool   \n",
      " 14  is_cobbled           589865 non-null  bool   \n",
      " 15  is_gravel            589865 non-null  bool   \n",
      " 16  cyclist_team         430704 non-null  object \n",
      " 17  delta                589865 non-null  float64\n",
      "dtypes: bool(3), float64(7), int64(3), object(5)\n",
      "memory usage: 69.2+ MB\n"
     ]
    }
   ],
   "source": [
    "races.info()"
   ]
  },
  {
   "cell_type": "markdown",
   "metadata": {},
   "source": [
    "## TASK 1.2:"
   ]
  },
  {
   "cell_type": "markdown",
   "metadata": {},
   "source": [
    "## Analysis of the data distribution\n",
    "\n"
   ]
  },
  {
   "cell_type": "code",
   "execution_count": 837,
   "metadata": {},
   "outputs": [
    {
     "data": {
      "text/plain": [
       "<Axes: xlabel='birth_year', ylabel='height'>"
      ]
     },
     "execution_count": 837,
     "metadata": {},
     "output_type": "execute_result"
    },
    {
     "data": {
      "image/png": "[encoded data removed]",
      "text/plain": [
       "<Figure size 640x480 with 1 Axes>"
      ]
     },
     "metadata": {},
     "output_type": "display_data"
    }
   ],
   "source": [
    "sns.scatterplot(data=cyclists, x='birth_year', y='height')"
   ]
  },
  {
   "cell_type": "code",
   "execution_count": 838,
   "metadata": {},
   "outputs": [
    {
     "data": {
      "text/plain": [
       "<Axes: xlabel='birth_year'>"
      ]
     },
     "execution_count": 838,
     "metadata": {},
     "output_type": "execute_result"
    },
    {
     "data": {
      "image/png": "[encoded data removed]",
      "text/plain": [
       "<Figure size 640x480 with 1 Axes>"
      ]
     },
     "metadata": {},
     "output_type": "display_data"
    }
   ],
   "source": [
    "sns.boxenplot(data=cyclists, x='birth_year')"
   ]
  }
 ],
 "metadata": {
  "kernelspec": {
   "display_name": "Python 3 (ipykernel)",
   "language": "python",
   "name": "python3"
  },
  "language_info": {
   "codemirror_mode": {
    "name": "ipython",
    "version": 3
   },
   "file_extension": ".py",
   "mimetype": "text/x-python",
   "name": "python",
   "nbconvert_exporter": "python",
   "pygments_lexer": "ipython3",
   "version": "3.12.7"
  }
 },
 "nbformat": 4,
 "nbformat_minor": 2
}
