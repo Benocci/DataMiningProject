{
 "cells": [
  {
   "cell_type": "markdown",
   "metadata": {},
   "source": [
    "### Data cleaning\n",
    "\n",
    "After the previous analysis we decide to cleaning the data with the aim of handling missing values, correcting inconsistencies and ensuring data integrity.\n",
    "\n",
    "First of all we decide to remove the multiple spaces inside the *name* attribute in this way\n",
    "\n",
    "Then we decide to rewrite the missing values of *weight* and *height* with -1 standard value. We also cast all the values to float.\n",
    "\n",
    "Also the missing values of *birth_year* are replaced with NaN and all the value are casted to int without loss of information\n",
    "\n",
    "We decide to drop the entry with *name* or *nationality* as missing value."
   ]
  },
  {
   "cell_type": "code",
   "execution_count": null,
   "metadata": {},
   "outputs": [],
   "source": [
    "# cyclists['name'] = cyclists['name'].str.replace(r'\\s+', ' ', regex=True).str.strip()\n",
    "# cyclists['name'] = cyclists['name'].str.normalize('NFKD').str.encode('ascii', errors='ignore').str.decode('utf-8')\n",
    "\n",
    "# cyclists['weight'] = cyclists['weight'].fillna(-1)\n",
    "# cyclists['height'] = cyclists['height'].fillna(-1)\n",
    "\n",
    "# cyclists['weight'] = cyclists['weight'].astype(float)\n",
    "# cyclists['height'] = cyclists['height'].astype(float)\n",
    "\n",
    "#cyclists['birth_year'] = cyclists['birth_year'].fillna(0)\n",
    "#cyclists['birth_year'] = cyclists['birth_year'].astype(int)\n",
    "\n",
    "#cyclists = cyclists.dropna(subset=['name', 'nationality'])"
   ]
  },
  {
   "cell_type": "markdown",
   "metadata": {},
   "source": [
    "### Data cleaning\n",
    "\n",
    "As done for the cyclists dataset, we make the cleaning of the races dataset. To start we convert the data types."
   ]
  },
  {
   "cell_type": "code",
   "execution_count": null,
   "metadata": {},
   "outputs": [],
   "source": [
    "# converting data types in numeric: \n",
    "# races['points'] = pd.to_numeric(races['points'], errors='coerce')\n",
    "# races['uci_points'] = pd.to_numeric(races['uci_points'], errors='coerce')\n",
    "# races['length'] = pd.to_numeric(races['length'], errors='coerce')\n",
    "# races['climb_total'] = pd.to_numeric(races['climb_total'], errors='coerce')\n",
    "# races['cyclist_age'] = pd.to_numeric(races['cyclist_age'], errors='coerce')\n",
    "\n",
    "# races['cyclist_age'] = races['cyclist_age'].fillna(-1)\n",
    "# races['cyclist_age'] = races['cyclist_age'].astype(int)"
   ]
  }
 ],
 "metadata": {
  "language_info": {
   "name": "python"
  }
 },
 "nbformat": 4,
 "nbformat_minor": 2
}
